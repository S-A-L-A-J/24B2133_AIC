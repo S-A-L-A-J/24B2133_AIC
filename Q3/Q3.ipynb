{
 "cells": [
  {
   "cell_type": "markdown",
   "id": "65557cc8",
   "metadata": {},
   "source": [
    "First we will extract all the text from the pdf and store it in our variable full text. We use fitz from the pymupdf library."
   ]
  },
  {
   "cell_type": "code",
   "execution_count": 23,
   "id": "da598c8b",
   "metadata": {},
   "outputs": [
    {
     "name": "stdout",
     "output_type": "stream",
     "text": [
      "SOM 101 \n",
      "Notes \n",
      "Introduction to Management \n",
      " \n",
      "Module 1: The field and functions of management \n",
      " Historicity of the Management Function and Management Education \n",
      "1. Origins of Management: \n",
      "Early Foundations: \n",
      "The origins of management can be traced back to ancient civilizations like Egypt, China, and \n",
      "Rome, where large projects like the construction of pyramids or the Great Wall required \n",
      "organized labour and managerial control. \n",
      "Ancient Civilizations: In ancient Egypt, the construction of the pyramids involved tens of \n",
      "thousands of workers who needed to be coordinated over decades. The organization required \n",
      "careful planning and resource management, an early example of large-scale project \n",
      "management. \n",
      "Military and Government: In ancient China, the administration of the vast empire during the \n",
      "Han Dynasty required a hierarchical structure with clear roles and responsibilities, akin to \n",
      "modern bureaucratic management. The building of the Great Wall, for example, required \n",
      "extensive plan\n"
     ]
    }
   ],
   "source": [
    "import fitz \n",
    "\n",
    "def extraction(pdf):\n",
    "    doc = fitz.open(pdf)\n",
    "    full_text = \"\"\n",
    "    for page in doc:\n",
    "        full_text += page.get_text() + \"\\n\"\n",
    "    return full_text\n",
    "\n",
    "pdf = \"Som.pdf\"\n",
    "text = extraction(pdf)\n",
    "print(text[:1000])"
   ]
  },
  {
   "cell_type": "markdown",
   "id": "3e797cf0",
   "metadata": {},
   "source": [
    "Just to check whether the pdf is read correctly or not and its contents are correct. Now we will break off the text into semantic chunks so that each chunk contains some consensus of meaning."
   ]
  },
  {
   "cell_type": "code",
   "execution_count": 24,
   "id": "aff4cc61",
   "metadata": {},
   "outputs": [],
   "source": [
    "def split_paras(text):\n",
    "    paragraphs = [p.strip() for p in text.split(\"\\n\\n\") if p.strip()]\n",
    "    return paragraphs"
   ]
  },
  {
   "cell_type": "code",
   "execution_count": null,
   "id": "0f978075",
   "metadata": {},
   "outputs": [
    {
     "name": "stdout",
     "output_type": "stream",
     "text": [
      "38\n",
      "284\n"
     ]
    }
   ],
   "source": [
    "chunks = split_paras(text)\n",
    "print(len(chunks))\n",
    "print(len(chunks[0].split()))"
   ]
  },
  {
   "cell_type": "markdown",
   "id": "fc89cc72",
   "metadata": {},
   "source": [
    "Generally in pdfs the different contexts are separated into different paragraphs, so using that to our advantage, i first split the text in different paragraphs and made them into chunks. "
   ]
  },
  {
   "cell_type": "code",
   "execution_count": null,
   "id": "109078c7",
   "metadata": {},
   "outputs": [
    {
     "name": "stderr",
     "output_type": "stream",
     "text": [
      "Batches: 100%|██████████| 2/2 [00:00<00:00,  3.74it/s]\n"
     ]
    }
   ],
   "source": [
    "from sentence_transformers import SentenceTransformer\n",
    "\n",
    "model = SentenceTransformer('all-MiniLM-L6-v2')\n",
    "\n",
    "embeddings = model.encode(chunks, show_progress_bar=True)\n",
    "\n",
    "import numpy as np\n",
    "from numpy.linalg import norm\n",
    "\n",
    "def cosine_similarity(vec1, vec2):\n",
    "    return np.dot(vec1, vec2) / (norm(vec1) * norm(vec2))"
   ]
  },
  {
   "cell_type": "markdown",
   "id": "6f372798",
   "metadata": {},
   "source": [
    "After generating different paragraphs, we use the Sentence transformer which works very similarly to an attention block but instead of being for tokens, it is used for sentences. It assigns embedded vectors to each sentence it receives. Here i have use the all-MiniLM-L6-v2 model of the sentence transformer. Then using the previously made chunks we embedd them into the pre-designed categories by the model. Then we determine similarity between different vectors using the dot product. We use this similarity to encode similar embedded vectors. "
   ]
  },
  {
   "cell_type": "code",
   "execution_count": 27,
   "id": "0294d62f",
   "metadata": {},
   "outputs": [],
   "source": [
    "def semantic_merge(paragraphs, embeddings, threshold=0.8):\n",
    "    merged_chunks = []\n",
    "    current_chunk = paragraphs[0]\n",
    "    current_embedding = embeddings[0]\n",
    "\n",
    "    for i in range(1, len(paragraphs)):\n",
    "        sim = cosine_similarity(current_embedding, embeddings[i])\n",
    "        if sim >= threshold:\n",
    "            current_chunk += \"\\n\\n\" + paragraphs[i]\n",
    "            current_embedding = (current_embedding + embeddings[i]) / 2\n",
    "        else:\n",
    "            merged_chunks.append(current_chunk)\n",
    "            current_chunk = paragraphs[i]\n",
    "            current_embedding = embeddings[i]\n",
    "\n",
    "    merged_chunks.append(current_chunk)\n",
    "    return merged_chunks\n"
   ]
  },
  {
   "cell_type": "markdown",
   "id": "4cca9679",
   "metadata": {},
   "source": [
    "As explained in the above md, we use the cosine similarity function to find the dot products of two different embeddings and how close they are, if they are closer than a certain threshold, 0.8 for our case, then we consider them to be sematically connected. We merge the semantically connected chunks."
   ]
  },
  {
   "cell_type": "code",
   "execution_count": null,
   "id": "7ee089c0",
   "metadata": {},
   "outputs": [
    {
     "name": "stderr",
     "output_type": "stream",
     "text": [
      "Batches: 100%|██████████| 2/2 [00:00<00:00,  8.97it/s]"
     ]
    },
    {
     "name": "stdout",
     "output_type": "stream",
     "text": [
      "Total semantic chunks: 38\n",
      "First chunk preview:\n",
      "SOM 101 \n",
      "Notes \n",
      "Introduction to Management \n",
      " \n",
      "Module 1: The field and functions of management \n",
      " Historicity of the Management Function and Management Education \n",
      "1. Origins of Management: \n",
      "Early Foundations: \n",
      "The origins of management can be traced back to ancient civilizations like Egypt, China, and \n",
      "Rome, where large projects like the construction of pyramids or the Great Wall required \n",
      "organized labour and managerial control. \n",
      "Ancient Civilizations: In ancient Egypt, the construction of the py\n"
     ]
    },
    {
     "name": "stderr",
     "output_type": "stream",
     "text": [
      "\n"
     ]
    }
   ],
   "source": [
    "semantic_chunks = semantic_merge(chunks, embeddings, threshold=0.8)\n",
    "\n",
    "print(f\"Total semantic chunks: {len(semantic_chunks)}\")\n",
    "print(f\"First chunk preview:\\n{semantic_chunks[0][:500]}\")\n"
   ]
  },
  {
   "cell_type": "markdown",
   "id": "bff4da58",
   "metadata": {},
   "source": [
    "Now we use FAISS, which is a library that helps us to find the nearest neighbours on a large database of vectors in a high dimension space. We are using the eucleidean L2 distance to find the distance between vectors which is used by the index. "
   ]
  },
  {
   "cell_type": "code",
   "execution_count": 29,
   "id": "a73e42e5",
   "metadata": {},
   "outputs": [],
   "source": [
    "import faiss\n",
    "import numpy as np\n",
    "\n",
    "dimension = embeddings[0].shape[0]\n",
    "index = faiss.IndexFlatL2(dimension) \n",
    "index.add(np.array(embeddings))\n",
    "faiss.write_index(index, \"chunks.index\")"
   ]
  },
  {
   "cell_type": "markdown",
   "id": "3c600cc7",
   "metadata": {},
   "source": [
    "Now when we inputs a query, the model encodes the query into a embedded vector and then uses the index search of faiss to find the 3 closest neighbours to the query vector, what this does is, from the semantically merged chunks it finds the top 3 chunks whose semantic vectors are closest to the query vector thus formed. "
   ]
  },
  {
   "cell_type": "code",
   "execution_count": 30,
   "id": "43fe6251",
   "metadata": {},
   "outputs": [
    {
     "name": "stdout",
     "output_type": "stream",
     "text": [
      "Step 2: Managing Others to Leading Managers \n",
      "In this transition, a leader moves from managing a team to managing multiple teams or other \n",
      "managers. This requires developing skills in managing managers, setting broader strategic \n",
      "goals, and ensuring alignment across teams.  \n",
      "Example: A team leader in a marketing department is promoted to a marketing manager, \n",
      "responsible for overseeing the heads of the social media, content creation, and advertising \n",
      "teams. They must now ensure that each team's efforts are aligned with the overall marketing \n",
      "strategy and company goals. \n",
      "Step 3: Leading Managers to Functional Manager \n",
      "At this stage, the leader becomes responsible for an entire function or department within the \n",
      "organization. This involves a deeper understanding of the business, strategic planning, and \n",
      "optimizing departmental performance.  \n",
      "Example: A marketing manager is promoted to the role of Director of Marketing. They are \n",
      "now responsible for the overall performance of the marketing department, including budget \n",
      "management, strategic planning, and cross-functional collaboration with sales and product \n",
      "development. \n",
      "Step 4: Functional Manager to Business Manager \n",
      "The transition from functional manager to business manager involves taking responsibility for \n",
      "multiple functions or an entire business unit. This role requires a comprehensive understanding \n",
      "of various functions, such as finance, HR, and operations, in addition to strategic and financial \n",
      "planning.  \n",
      "Example: The Director of Marketing is promoted to General Manager of a business unit. They \n",
      "now oversee marketing, sales, operations, and customer service, with a focus on driving the \n",
      "unit's profitability and growth. \n",
      "Step 5: Business Manager to Group Manager \n",
      "At this level, the leader manages multiple business units or divisions. The role demands a \n",
      "strategic vision for the entire group, coordination between different units, and achieving \n",
      "synergies across the organization.  \n",
      "Example: A General Manager is promoted to Vice President of a product group, overseeing \n",
      "several business units, such as consumer electronics, home appliances, and industrial solutions. \n",
      "They must ensure that each unit aligns with the company’s overall strategic goals and optimizes \n",
      "resource sharing and collaboration. \n",
      "Step 6: Group Manager to Enterprise Manager \n",
      "The final transition is from managing a group to leading the entire organization. This role \n",
      "requires a broad vision for the company's future, strong leadership across all functions, and the \n",
      "ability to drive organizational change and innovation.  \n",
      "Example: A Vice President of a product group is promoted to Chief Executive Officer (CEO). \n",
      "As CEO, they are responsible for the overall direction and success of the company, making \n",
      "high-level strategic decisions, managing relationships with stakeholders, and guiding the \n",
      "organization through market challenges and opportunities.\n",
      "Executive Education: In addition to traditional MBA programs, many business schools now \n",
      "offer executive education programs tailored for mid-career professionals. These programs \n",
      "focus on leadership development, innovation, and strategic thinking. Programs at institutions \n",
      "like INSEAD or the London Business School often target mid-career executives. These \n",
      "programs might cover how leaders can drive innovation in a rapidly changing business \n",
      "environment, such as how Tesla disrupted the automotive industry. \n",
      "Online Learning: The growth of online education platforms like Coursera and edX has made \n",
      "management education more accessible, allowing students worldwide to earn degrees or \n",
      "certifications remotely. Platforms like Coursera offer courses from top universities, allowing \n",
      "global access to management education. An entrepreneur in India, for example, can now learn \n",
      "about digital marketing from the University of Illinois without leaving their home country. \n",
      " Overview of Different Branches of Management in Business Organizations \n",
      "1. Marketing Management \n",
      "Role in Business: \n",
      "Marketing management involves understanding customer needs and preferences and then \n",
      "creating products or services that satisfy these needs. It encompasses activities such as market \n",
      "research, product development, branding, pricing, distribution, and promotion. The goal is to \n",
      "create value for customers while achieving the organization’s objectives, such as increasing \n",
      "market share, revenue, and profitability. \n",
      "Key Concepts and Examples: \n",
      "Market Research: \n",
      "Example: Before launching the iPhone, Apple conducted extensive market research to \n",
      "understand consumer needs for mobile devices. This research revealed a demand for a device \n",
      "that combined communication, entertainment, and computing capabilities, leading to the \n",
      "development of the iPhone. \n",
      "Impact: Market research helps companies like Apple anticipate trends and stay ahead of \n",
      "competitors by understanding what consumers want before they do. \n",
      "Product Development: \n",
      "Example: Tesla’s development of electric vehicles (EVs) like the Model S involved identifying \n",
      "the growing consumer demand for sustainable, high-performance cars. Tesla’s focus on long-\n",
      "range batteries and innovative design helped it establish a strong position in the EV market. \n",
      "Impact: Effective product development addresses specific market needs, allowing companies \n",
      "like Tesla to differentiate themselves and gain a competitive edge. \n",
      "Branding: \n",
      "Example: Nike’s branding strategy, epitomized by its “Just Do It” slogan, emphasizes \n",
      "empowerment, athleticism, and perseverance. The brand’s strong identity resonates with a \n",
      "broad audience, from casual wearers to professional athletes.\n",
      "Impact: Strong branding creates emotional connections with consumers, leading to increased \n",
      "brand loyalty and long-term success. \n",
      "Advertising and Promotion: \n",
      "Example: Coca-Cola’s “Share a Coke” campaign replaced the brand’s logo on bottles with \n",
      "popular names, encouraging people to find and share a Coke with friends. This personalized \n",
      "approach created a viral marketing sensation, boosting sales and engagement. \n",
      "Impact: Effective advertising and promotion can significantly enhance brand visibility, foster \n",
      "customer engagement, and drive sales. \n",
      "Strategic Importance: \n",
      "Marketing management is crucial for creating and maintaining a strong market presence. \n",
      "Companies like Apple and Coca-Cola rely on sophisticated marketing strategies to build brand \n",
      "equity, launch successful products, and sustain customer loyalty in highly competitive markets. \n",
      "2. Finance Management \n",
      "Role in Business: \n",
      "Finance management involves planning, organizing, controlling, and monitoring financial \n",
      "resources to achieve organizational goals. It includes managing cash flow, investments, risk, \n",
      "and ensuring the company’s financial stability and growth. Finance managers make critical \n",
      "decisions on capital investment, financing, and dividend policies to maximize shareholder \n",
      "value. \n",
      "Key Concepts and Examples: \n",
      "Capital Budgeting: \n",
      "Example: Disney’s acquisition of Pixar for $7.4 billion in 2006 is a classic case of capital \n",
      "budgeting. Disney evaluated the long-term benefits of integrating Pixar’s innovative animation \n",
      "technology and creative talent, leading to a successful partnership that revitalized Disney’s \n",
      "animated film business. \n",
      "Impact: Capital budgeting decisions determine the strategic investments that drive future \n",
      "growth and profitability, as seen in Disney’s resurgence as a leader in animated films. \n",
      "Financial Reporting: \n",
      "Example: Public companies like Microsoft are required to prepare quarterly and annual \n",
      "financial reports, including the income statement, balance sheet, and cash flow statement. \n",
      "These reports provide transparency and help investors assess the company’s financial health \n",
      "and performance. \n",
      "Impact: Accurate financial reporting ensures compliance with regulatory standards, builds \n",
      "investor confidence, and supports informed decision-making. \n",
      "Risk Management:\n"
     ]
    }
   ],
   "source": [
    "query = \"What is the role of marketing management?\"\n",
    "query_embedding = model.encode([query])\n",
    "D, I = index.search(np.array(query_embedding), k=3)  \n",
    "for i in I[0]:\n",
    "    print(semantic_chunks[i])"
   ]
  },
  {
   "cell_type": "markdown",
   "id": "f798835d",
   "metadata": {},
   "source": [
    "Once we find the top three nearest neighbours, we use the groq api to send a prompt and the prompt needs to be in a very specified format for which i used help of internet sources. We send in the query, the context, which is nothing but the conjunction of the top three chunks. "
   ]
  },
  {
   "cell_type": "code",
   "execution_count": 31,
   "id": "5a33d7ba",
   "metadata": {},
   "outputs": [],
   "source": [
    "def prepare_prompt(query, chunks):\n",
    "    context = \"\\n\\n\".join(chunks)\n",
    "    prompt = f\"\"\"Answer the following question using the context provided.\n",
    "\n",
    "Context:\n",
    "{context}\n",
    "\n",
    "Question:\n",
    "{query}\n",
    "\n",
    "Answer:\"\"\"\n",
    "    return prompt\n"
   ]
  },
  {
   "cell_type": "code",
   "execution_count": null,
   "id": "2f8cdfdc",
   "metadata": {},
   "outputs": [],
   "source": []
  },
  {
   "cell_type": "markdown",
   "id": "6fba894b",
   "metadata": {},
   "source": [
    "Using the groq api, it returns us the answer from the LLM based on the question and the context we gave it nd then we print the answer."
   ]
  },
  {
   "cell_type": "code",
   "execution_count": null,
   "id": "c12ced27",
   "metadata": {},
   "outputs": [],
   "source": [
    "import requests\n",
    "\n",
    "\n",
    "def query_groq(prompt):\n",
    "    headers = {\n",
    "        \"Authorization\": f\"Bearer {GROQ_API_KEY}\",\n",
    "        \"Content-Type\": \"application/json\"\n",
    "    }\n",
    "\n",
    "    data = {\n",
    "        \"model\": \"llama3-8b-8192\", \n",
    "        \"messages\": [\n",
    "            {\"role\": \"system\", \"content\": \"You are a helpful assistant.\"},\n",
    "            {\"role\": \"user\", \"content\": prompt}\n",
    "        ],\n",
    "        \"temperature\": 0.2\n",
    "    }\n",
    "\n",
    "    response = requests.post(GROQ_URL, headers=headers, json=data)\n",
    "    return response.json()['choices'][0]['message']['content']\n"
   ]
  },
  {
   "cell_type": "code",
   "execution_count": null,
   "id": "04d3b9df",
   "metadata": {},
   "outputs": [
    {
     "name": "stdout",
     "output_type": "stream",
     "text": [
      "Answer:\n",
      " According to the context, marketing management involves understanding customer needs and preferences and then creating products or services that satisfy these needs. It encompasses activities such as market research, product development, branding, pricing, distribution, and promotion. The goal is to create value for customers while achieving the organization's objectives, such as increasing market share, revenue, and profitability.\n"
     ]
    }
   ],
   "source": [
    "relevant_chunks = [semantic_chunks[idx] for idx in I[0]]\n",
    "prompt = prepare_prompt(query, relevant_chunks)\n",
    "answer = query_groq(prompt)\n",
    "print(\"Answer:\\n\", answer)\n"
   ]
  }
 ],
 "metadata": {
  "kernelspec": {
   "display_name": "dl-env",
   "language": "python",
   "name": "python3"
  },
  "language_info": {
   "codemirror_mode": {
    "name": "ipython",
    "version": 3
   },
   "file_extension": ".py",
   "mimetype": "text/x-python",
   "name": "python",
   "nbconvert_exporter": "python",
   "pygments_lexer": "ipython3",
   "version": "3.10.16"
  }
 },
 "nbformat": 4,
 "nbformat_minor": 5
}
